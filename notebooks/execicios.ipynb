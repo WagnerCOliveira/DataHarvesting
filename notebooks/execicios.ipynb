{
 "cells": [
  {
   "cell_type": "markdown",
   "id": "9b7fd02a",
   "metadata": {},
   "source": [
    "# Exercícios BeautifulSoup4 - Quotes to Scrape \n",
    " \n",
    "## Prof. Thiago Bluhm \n",
    "### Site: http://quotes.toscrape.com \n",
    "#### Objetivo: Aprender web scraping com BeautifulSoup4 através de exercícios práticos passo a passo. \n"
   ]
  },
  {
   "cell_type": "code",
   "execution_count": 1,
   "id": "804b78b1",
   "metadata": {},
   "outputs": [],
   "source": [
    "# Preparação Inicial \n",
    "import requests\n",
    "\n",
    "from urllib.request import urlopen \n",
    "from bs4 import BeautifulSoup\n"
   ]
  },
  {
   "cell_type": "markdown",
   "id": "063aae01",
   "metadata": {},
   "source": [
    "#### EXERCÍCIO 1: Configuração Básica \n",
    "\n",
    "Questão: Abra o site http://quotes.toscrape.com usando urlopen e crie uma instância do BeautifulSoup. Imprima o título da página. \n",
    "\n",
    "Resultado esperado: Título da página: Quotes to Scrape"
   ]
  },
  {
   "cell_type": "code",
   "execution_count": 2,
   "id": "b6be640a",
   "metadata": {},
   "outputs": [
    {
     "name": "stdout",
     "output_type": "stream",
     "text": [
      "Quotes to Scrape\n"
     ]
    }
   ],
   "source": [
    "# Abrir conexão com o site \n",
    "url = 'http://quotes.toscrape.com'\n",
    "html = urlopen(url=url) \n",
    " \n",
    "# Instanciar BeautifulSoup \n",
    "soup = BeautifulSoup(html, 'html.parser') \n",
    "\n",
    "print(f'{soup.title.text}')"
   ]
  },
  {
   "cell_type": "markdown",
   "id": "8b2728f2",
   "metadata": {},
   "source": [
    "#### EXERCÍCIO 2: Primeira Quote \n",
    "Questão: Encontre e imprima o texto da primeira quote (citação class ‘text’) da página. \n",
    "\n",
    "Resultado esperado: 'The world as we have created it is a process of our thinking...' "
   ]
  },
  {
   "cell_type": "code",
   "execution_count": 3,
   "id": "5c40acf4",
   "metadata": {},
   "outputs": [
    {
     "name": "stdout",
     "output_type": "stream",
     "text": [
      "“The world as we have created it is a process of our thinking. It cannot be changed without changing our thinking.”\n"
     ]
    }
   ],
   "source": [
    "# Seu código aqui (use soup.find) \n",
    "print(f'{soup.find('span', class_='text').text}')\n"
   ]
  },
  {
   "cell_type": "markdown",
   "id": "cfaafd75",
   "metadata": {},
   "source": [
    "#### EXERCÍCIO 3: Autor da Primeira Quote \n",
    "Questão: Encontre e imprima o nome do autor da primeira quote. \n",
    "       \n",
    "Resultado esperado: Autor: Albert Einstein "
   ]
  },
  {
   "cell_type": "code",
   "execution_count": 4,
   "id": "efdcf21b",
   "metadata": {},
   "outputs": [
    {
     "name": "stdout",
     "output_type": "stream",
     "text": [
      "Albert Einstein\n"
     ]
    }
   ],
   "source": [
    "# Seu código aqui (procure por small e class author) \n",
    "print(f'{soup.find('small', class_='author').text}')"
   ]
  },
  {
   "cell_type": "markdown",
   "id": "52a05d58",
   "metadata": {},
   "source": [
    "#### EXERCÍCIO 4: Tags da Primeira Quote \n",
    "Questão: Encontre e imprima todas as tags (palavras-chave) da primeira quote. \n",
    "\n",
    "Resultado esperado: \n",
    "\n",
    "Tags da primeira quote: \n",
    "- change \n",
    "- deep-thoughts \n",
    "- thinking \n",
    "- world "
   ]
  },
  {
   "cell_type": "code",
   "execution_count": 5,
   "id": "0f4c3caa",
   "metadata": {},
   "outputs": [
    {
     "name": "stdout",
     "output_type": "stream",
     "text": [
      "\n",
      "            Tags:\n",
      "            \n",
      "change\n",
      "deep-thoughts\n",
      "thinking\n",
      "world\n",
      "\n"
     ]
    }
   ],
   "source": [
    "# Seu código aqui (procure por div com class tags)\n",
    "print(f'{soup.find('div', class_='tags').text}')"
   ]
  },
  {
   "cell_type": "markdown",
   "id": "f9856dbd",
   "metadata": {},
   "source": [
    "#### EXERCÍCIO 5: Contar Total de Quotes \n",
    "Questão: Conte quantas quotes existem na primeira página. \n",
    "\n",
    "Resultado esperado: Total de quotes na página: 10 "
   ]
  },
  {
   "cell_type": "code",
   "execution_count": 6,
   "id": "e3c0a2a9",
   "metadata": {},
   "outputs": [
    {
     "data": {
      "text/plain": [
       "10"
      ]
     },
     "execution_count": 6,
     "metadata": {},
     "output_type": "execute_result"
    }
   ],
   "source": [
    "# Seu código aqui (use find_all)\n",
    "len(soup.find_all('div', class_='quote'))"
   ]
  },
  {
   "cell_type": "markdown",
   "id": "c1991761",
   "metadata": {},
   "source": [
    "#### EXERCÍCIO 6: Lista de Todos os Autores \n",
    "Questão: Crie uma lista com todos os autores únicos da página (sem repetições). \n",
    "\n",
    "Resultado esperado: Lista de 10 autores únicos ordenados alfabeticamente. "
   ]
  },
  {
   "cell_type": "code",
   "execution_count": 7,
   "id": "31654948",
   "metadata": {},
   "outputs": [
    {
     "data": {
      "text/plain": [
       "['Albert Einstein',\n",
       " 'André Gide',\n",
       " 'Eleanor Roosevelt',\n",
       " 'J.K. Rowling',\n",
       " 'Jane Austen',\n",
       " 'Marilyn Monroe',\n",
       " 'Steve Martin',\n",
       " 'Thomas A. Edison']"
      ]
     },
     "execution_count": 7,
     "metadata": {},
     "output_type": "execute_result"
    }
   ],
   "source": [
    "# Seu código aqui (use set para eliminar duplicatas)\n",
    "import re\n",
    "\n",
    "bs_autores = set(soup.find_all('small', class_='author'))\n",
    "\n",
    "regex = r'>(.*?)<'\n",
    "autores = []\n",
    "for bs_autor in list(bs_autores):        \n",
    "    autores.append(re.findall(regex, str(bs_autor))[0])\n",
    "\n",
    "sorted(autores)"
   ]
  },
  {
   "cell_type": "markdown",
   "id": "af5d1f33",
   "metadata": {},
   "source": [
    "#### EXERCÍCIO 7: Quote Mais Longa \n",
    "Questão: Encontre qual é a quote mais longa (maior número de caracteres) e imprima ela com seu autor. "
   ]
  },
  {
   "cell_type": "code",
   "execution_count": 8,
   "id": "2180d581",
   "metadata": {},
   "outputs": [
    {
     "name": "stdout",
     "output_type": "stream",
     "text": [
      "tamanho --> 235\n",
      "quote --> <div class=\"quote\" itemscope=\"\" itemtype=\"http://schema.org/CreativeWork\">\n",
      "<span class=\"text\" itemprop=\"text\">“There are only two ways to live your life. One is as though nothing is a miracle. The other is as though everything is a miracle.”</span>\n",
      "<span>by <small class=\"author\" itemprop=\"author\">Albert Einstein</small>\n",
      "<a href=\"/author/Albert-Einstein\">(about)</a>\n",
      "</span>\n",
      "<div class=\"tags\">\n",
      "            Tags:\n",
      "            <meta class=\"keywords\" content=\"inspirational,life,live,miracle,miracles\" itemprop=\"keywords\"/>\n",
      "<a class=\"tag\" href=\"/tag/inspirational/page/1/\">inspirational</a>\n",
      "<a class=\"tag\" href=\"/tag/life/page/1/\">life</a>\n",
      "<a class=\"tag\" href=\"/tag/live/page/1/\">live</a>\n",
      "<a class=\"tag\" href=\"/tag/miracle/page/1/\">miracle</a>\n",
      "<a class=\"tag\" href=\"/tag/miracles/page/1/\">miracles</a>\n",
      "</div>\n",
      "</div>\n",
      "autor --> Albert Einstein\n"
     ]
    }
   ],
   "source": [
    "maior = 0\n",
    "quote = {}\n",
    "for i in soup.find_all('div', class_='quote'):\n",
    "    if len(i.text) > maior:\n",
    "        maior = len(i.text)\n",
    "        quote['tamanho'] = maior\n",
    "        quote['quote'] = i\n",
    "        quote['autor'] = i.find('small', class_='author').text\n",
    "\n",
    "\n",
    "for k, v in quote.items():\n",
    "    print(f'{k} --> {v}')"
   ]
  },
  {
   "cell_type": "markdown",
   "id": "fd164a08",
   "metadata": {},
   "source": [
    "#### EXERCÍCIO 8: Buscar por Autor Específico \n",
    "\n",
    "Questão: Encontre todas as quotes de 'Albert Einstein' na página. "
   ]
  },
  {
   "cell_type": "code",
   "execution_count": 9,
   "id": "f0e1aeb5",
   "metadata": {},
   "outputs": [
    {
     "name": "stdout",
     "output_type": "stream",
     "text": [
      "<small class=\"author\" itemprop=\"author\">Albert Einstein</small>\n",
      "<small class=\"author\" itemprop=\"author\">Albert Einstein</small>\n",
      "<small class=\"author\" itemprop=\"author\">Albert Einstein</small>\n"
     ]
    }
   ],
   "source": [
    "for i in soup.find_all('small', class_='author'):\n",
    "    if 'Albert Einstein' in i:\n",
    "        print(i)"
   ]
  },
  {
   "cell_type": "markdown",
   "id": "ebde78cb",
   "metadata": {},
   "source": [
    "### EXERCÍCIO 9: Tags Mais Populares \n",
    "\n",
    "Questão: Conte quantas vezes cada tag aparece na página e mostre as 5 mais populares. \n"
   ]
  },
  {
   "cell_type": "code",
   "execution_count": 10,
   "id": "220656ae",
   "metadata": {},
   "outputs": [
    {
     "name": "stdout",
     "output_type": "stream",
     "text": [
      "[('inspirational', 4), ('life', 3), ('humor', 3), ('books', 2), ('love', 2)]\n"
     ]
    }
   ],
   "source": [
    "# Seu código aqui (use Counter ou dicionário) \n",
    "from collections import Counter\n",
    "\n",
    "regex = r'>(.*?)<'\n",
    "tags = []\n",
    "for bs_autor in soup.find_all('a', class_='tag'):        \n",
    "    tags.append(re.findall(regex, str(bs_autor))[0])\n",
    "\n",
    "print(Counter(tags).most_common(5))"
   ]
  },
  {
   "cell_type": "markdown",
   "id": "9a57a855",
   "metadata": {},
   "source": [
    "#### EXERCÍCIO 10: Navegação - Links do Menu \n",
    "Questão: Encontre todos os links de navegação no menu superior da página. \n",
    "\n"
   ]
  },
  {
   "cell_type": "code",
   "execution_count": 11,
   "id": "1c2ded61",
   "metadata": {},
   "outputs": [
    {
     "name": "stdout",
     "output_type": "stream",
     "text": [
      "Em nav e ul foram encontrado apenas links para paginação!!!\n",
      "Fazendo busca pela class \"row header-box\" para achar link de menu! \n",
      "Link encontrado no inicio da webpace -> ['/', '/login']\n"
     ]
    }
   ],
   "source": [
    "# Seu código aqui (procure por nav ou ul) \n",
    "navs = soup.find_all('nav')\n",
    "uls = soup.find_all('ul')\n",
    "\n",
    "print('Em nav e ul foram encontrado apenas links para paginação!!!')\n",
    "\n",
    "print('Fazendo busca pela class \"row header-box\" para achar link de menu! ')\n",
    "links = soup.find_all('div', class_='row header-box')\n",
    "regex = r'<a href=\"(.*?)\"'\n",
    "\n",
    "for l in links:    \n",
    "    print(f'Link encontrado no inicio da webpace -> {re.findall(regex, str(l))}')\n",
    "    \n"
   ]
  },
  {
   "cell_type": "markdown",
   "id": "2a4683ac",
   "metadata": {},
   "source": [
    "####  EXERCÍCIO 11: Extrair Informações Completas \n",
    "Questão: Crie um dicionário com todas as informações de cada quote (texto, autor, tags). "
   ]
  },
  {
   "cell_type": "code",
   "execution_count": 12,
   "id": "3e56b073",
   "metadata": {},
   "outputs": [
    {
     "name": "stdout",
     "output_type": "stream",
     "text": [
      "{'text': '“The world as we have created it is a process of our thinking. It cannot be changed without changing our thinking.”', 'autor': 'Albert Einstein', 'tags': ['change', 'deep-thoughts', 'thinking', 'world']}\n",
      "{'text': '“It is our choices, Harry, that show what we truly are, far more than our abilities.”', 'autor': 'J.K. Rowling', 'tags': ['abilities', 'choices']}\n",
      "{'text': '“There are only two ways to live your life. One is as though nothing is a miracle. The other is as though everything is a miracle.”', 'autor': 'Albert Einstein', 'tags': ['inspirational', 'life', 'live', 'miracle', 'miracles']}\n",
      "{'text': '“The person, be it gentleman or lady, who has not pleasure in a good novel, must be intolerably stupid.”', 'autor': 'Jane Austen', 'tags': ['aliteracy', 'books', 'classic', 'humor']}\n",
      "{'text': \"“Imperfection is beauty, madness is genius and it's better to be absolutely ridiculous than absolutely boring.”\", 'autor': 'Marilyn Monroe', 'tags': ['be-yourself', 'inspirational']}\n",
      "{'text': '“Try not to become a man of success. Rather become a man of value.”', 'autor': 'Albert Einstein', 'tags': ['adulthood', 'success', 'value']}\n",
      "{'text': '“It is better to be hated for what you are than to be loved for what you are not.”', 'autor': 'André Gide', 'tags': ['life', 'love']}\n",
      "{'text': \"“I have not failed. I've just found 10,000 ways that won't work.”\", 'autor': 'Thomas A. Edison', 'tags': ['edison', 'failure', 'inspirational', 'paraphrased']}\n",
      "{'text': \"“A woman is like a tea bag; you never know how strong it is until it's in hot water.”\", 'autor': 'Eleanor Roosevelt', 'tags': ['misattributed-eleanor-roosevelt']}\n",
      "{'text': '“A day without sunshine is like, you know, night.”', 'autor': 'Steve Martin', 'tags': ['humor', 'obvious', 'simile']}\n"
     ]
    }
   ],
   "source": [
    "# Seu código aqui\n",
    "\n",
    "def get_texto_autor_tags_quote():\n",
    "    list_quote = []\n",
    "\n",
    "    regex = r'>(.*?)<'\n",
    "\n",
    "    for i in soup.find_all('div', class_='quote'):\n",
    "        \n",
    "        # Separa Tags\n",
    "        list_tags = []\n",
    "        for t in i.find_all('a', class_='tag'):        \n",
    "            list_tags.append(re.findall(regex, str(t))[0])\n",
    "\n",
    "        list_quote.append({\n",
    "            'text' : i.find('span', class_='text').text,\n",
    "            'autor' : i.find('small', class_='author').text,        \n",
    "            'tags': list_tags\n",
    "        })\n",
    "\n",
    "    return list_quote\n",
    "\n",
    "for q in get_texto_autor_tags_quote():\n",
    "    print(q)"
   ]
  },
  {
   "cell_type": "markdown",
   "id": "f241dbcb",
   "metadata": {},
   "source": [
    "#### EXERCÍCIO 12: Buscar Quote por Palavra-chave \n",
    "Questão: Encontre todas as quotes que contêm a palavra 'life' (vida). "
   ]
  },
  {
   "cell_type": "code",
   "execution_count": 13,
   "id": "d788e271",
   "metadata": {},
   "outputs": [
    {
     "name": "stdout",
     "output_type": "stream",
     "text": [
      "<div class=\"quote\" itemscope=\"\" itemtype=\"http://schema.org/CreativeWork\">\n",
      "<span class=\"text\" itemprop=\"text\">“There are only two ways to live your life. One is as though nothing is a miracle. The other is as though everything is a miracle.”</span>\n",
      "<span>by <small class=\"author\" itemprop=\"author\">Albert Einstein</small>\n",
      "<a href=\"/author/Albert-Einstein\">(about)</a>\n",
      "</span>\n",
      "<div class=\"tags\">\n",
      "            Tags:\n",
      "            <meta class=\"keywords\" content=\"inspirational,life,live,miracle,miracles\" itemprop=\"keywords\"/>\n",
      "<a class=\"tag\" href=\"/tag/inspirational/page/1/\">inspirational</a>\n",
      "<a class=\"tag\" href=\"/tag/life/page/1/\">life</a>\n",
      "<a class=\"tag\" href=\"/tag/live/page/1/\">live</a>\n",
      "<a class=\"tag\" href=\"/tag/miracle/page/1/\">miracle</a>\n",
      "<a class=\"tag\" href=\"/tag/miracles/page/1/\">miracles</a>\n",
      "</div>\n",
      "</div>\n"
     ]
    }
   ],
   "source": [
    "for i in soup.find_all('div', class_='quote'):\n",
    "    if 'life' in i.find('span', class_='text').text:\n",
    "        print(i)"
   ]
  },
  {
   "cell_type": "markdown",
   "id": "9e5710ee",
   "metadata": {},
   "source": [
    "\n",
    "#### EXERCÍCIO 13: Verificar Estrutura da Página \n",
    "\n",
    "Questão: Encontre e imprima a estrutura básica da página (header, main, footer). \n",
    "\n"
   ]
  },
  {
   "cell_type": "code",
   "execution_count": 14,
   "id": "7404d09e",
   "metadata": {},
   "outputs": [
    {
     "name": "stdout",
     "output_type": "stream",
     "text": [
      "Estrutura do header:\n",
      "Nenhum elemento <header> encontrado.\n",
      "--------------------\n",
      "Estrutura do main:\n",
      "Nenhum elemento <main> encontrado.\n",
      "--------------------\n",
      "Estrutura do footer:\n",
      "<footer class=\"footer\">\n",
      " <div class=\"container\">\n",
      "  <p class=\"text-muted\">\n",
      "   Quotes by:\n",
      "   <a href=\"https://www.goodreads.com/quotes\">\n",
      "    GoodReads.com\n",
      "   </a>\n",
      "  </p>\n",
      "  <p class=\"copyright\">\n",
      "   Made with\n",
      "   <span class=\"zyte\">\n",
      "    ❤\n",
      "   </span>\n",
      "   by\n",
      "   <a class=\"zyte\" href=\"https://www.zyte.com\">\n",
      "    Zyte\n",
      "   </a>\n",
      "  </p>\n",
      " </div>\n",
      "</footer>\n",
      "\n",
      "--------------------\n"
     ]
    }
   ],
   "source": [
    "estrutura_basica = ['header', 'main', 'footer']\n",
    "\n",
    "for item in estrutura_basica:\n",
    "\n",
    "    search = soup.find(item)    \n",
    "    print(f'Estrutura do {item}:')\n",
    "    if search:\n",
    "        print(search.prettify())\n",
    "    else:\n",
    "        print(f'Nenhum elemento <{item}> encontrado.')\n",
    "    print('-' * 20)\n"
   ]
  },
  {
   "cell_type": "markdown",
   "id": "f62a82d0",
   "metadata": {},
   "source": [
    "#### EXERCÍCIO 14: CSS Selectors \n",
    "Questão: Use CSS selectors para encontrar todas as quotes e seus autores. \n"
   ]
  },
  {
   "cell_type": "code",
   "execution_count": 15,
   "id": "996e39ad",
   "metadata": {},
   "outputs": [
    {
     "name": "stdout",
     "output_type": "stream",
     "text": [
      "Citações e Autores:\n",
      "--------------------\n",
      "Citação: “The world as we have created it is a process of our thinking. It cannot be changed without changing our thinking.”\n",
      "Autor: Albert Einstein\n",
      "--------------------\n",
      "Citação: “It is our choices, Harry, that show what we truly are, far more than our abilities.”\n",
      "Autor: J.K. Rowling\n",
      "--------------------\n",
      "Citação: “There are only two ways to live your life. One is as though nothing is a miracle. The other is as though everything is a miracle.”\n",
      "Autor: Albert Einstein\n",
      "--------------------\n",
      "Citação: “The person, be it gentleman or lady, who has not pleasure in a good novel, must be intolerably stupid.”\n",
      "Autor: Jane Austen\n",
      "--------------------\n",
      "Citação: “Imperfection is beauty, madness is genius and it's better to be absolutely ridiculous than absolutely boring.”\n",
      "Autor: Marilyn Monroe\n",
      "--------------------\n",
      "Citação: “Try not to become a man of success. Rather become a man of value.”\n",
      "Autor: Albert Einstein\n",
      "--------------------\n",
      "Citação: “It is better to be hated for what you are than to be loved for what you are not.”\n",
      "Autor: André Gide\n",
      "--------------------\n",
      "Citação: “I have not failed. I've just found 10,000 ways that won't work.”\n",
      "Autor: Thomas A. Edison\n",
      "--------------------\n",
      "Citação: “A woman is like a tea bag; you never know how strong it is until it's in hot water.”\n",
      "Autor: Eleanor Roosevelt\n",
      "--------------------\n",
      "Citação: “A day without sunshine is like, you know, night.”\n",
      "Autor: Steve Martin\n",
      "--------------------\n"
     ]
    }
   ],
   "source": [
    "# Seu código aqui (use soup.select) \n",
    "# Usa o seletor CSS para encontrar todos os elementos com a classe 'quote'\n",
    "quotes = soup.select('.quote')\n",
    "\n",
    "print('Citações e Autores:')\n",
    "print('-' * 20)\n",
    "\n",
    "for quote in quotes:\n",
    "    # Dentro de cada citação, encontra o texto da citação e o autor usando seletores CSS\n",
    "    text = quote.select_one('.text').get_text(strip=True)\n",
    "    author = quote.select_one('.author').get_text(strip=True)\n",
    "\n",
    "    print(f'Citação: {text}')\n",
    "    print(f'Autor: {author}')\n",
    "    print('-' * 20)"
   ]
  },
  {
   "cell_type": "markdown",
   "id": "f85f2009",
   "metadata": {},
   "source": [
    "#### EXERCÍCIO 15: Relatório Final Completo \n",
    "\n",
    "Questão: Crie um relatório completo com estatísticas da página. \n",
    "\n"
   ]
  },
  {
   "cell_type": "code",
   "execution_count": 16,
   "id": "c66055eb",
   "metadata": {},
   "outputs": [
    {
     "name": "stdout",
     "output_type": "stream",
     "text": [
      "\n",
      "    Estatísticas da Página: http://quotes.toscrape.com\n",
      "\n",
      "    Resumo:\n",
      "    - Total de Citações na Página: 10\n",
      "    - Total de Autores Únicos: 8\n",
      "    - Total de Tags Únicas: 26\n",
      "\n",
      "    Detalhes por Autor:\n",
      "    - Albert Einstein: 3 citações\n",
      "- J.K. Rowling: 1 citações\n",
      "- Jane Austen: 1 citações\n",
      "- Marilyn Monroe: 1 citações\n",
      "- André Gide: 1 citações\n",
      "- Thomas A. Edison: 1 citações\n",
      "- Eleanor Roosevelt: 1 citações\n",
      "- Steve Martin: 1 citações\n",
      "\n",
      "Tags Mais Populares (Top 5):\n",
      "- inspirational: 3 vezes\n",
      "- life: 2 vezes\n",
      "- humor: 2 vezes\n",
      "- change: 1 vezes\n",
      "- deep-thoughts: 1 vezes\n",
      "\n"
     ]
    }
   ],
   "source": [
    "# Seu código aqui - crie um relatório completo \n",
    "\n",
    "def relatorio_quotes_toscrep(url: str) -> str | None:\n",
    "    # Total de Citações\n",
    "    quotes = soup.select('.quote')\n",
    "    total_quotes = len(quotes)\n",
    "\n",
    "    # Total de Autores Únicos e Citações por Autor\n",
    "    authors = [quote.select_one('.author').get_text(strip=True) for quote in quotes]\n",
    "    unique_authors = set(authors)\n",
    "    total_unique_authors = len(unique_authors)\n",
    "    quotes_by_author = Counter(authors)\n",
    "\n",
    "    # Total de Tags e Tags mais Comuns\n",
    "    tags_list = []\n",
    "    for quote in quotes:\n",
    "        tags = quote.select('.tags .tag')\n",
    "        for tag in tags:\n",
    "            tags_list.append(tag.get_text(strip=True))\n",
    "    total_tags = len(tags_list)\n",
    "    unique_tags = set(tags_list)\n",
    "    total_unique_tags = len(unique_tags)\n",
    "    common_tags = Counter(tags_list).most_common(5) # Top 5 tags\n",
    "\n",
    "    # Construção do Relatório\n",
    "    report = f\"\"\"\n",
    "    Estatísticas da Página: {url}\n",
    "\n",
    "    Resumo:\n",
    "    - Total de Citações na Página: {total_quotes}\n",
    "    - Total de Autores Únicos: {total_unique_authors}\n",
    "    - Total de Tags Únicas: {total_unique_tags}\n",
    "\n",
    "    Detalhes por Autor:\n",
    "    \"\"\"\n",
    "    for author, count in quotes_by_author.items():\n",
    "        report += f\"- {author}: {count} citações\\n\"\n",
    "\n",
    "    report += \"\\nTags Mais Populares (Top 5):\\n\"\n",
    "    for tag, count in common_tags:\n",
    "        report += f\"- {tag}: {count} vezes\\n\"\n",
    "\n",
    "    return report\n",
    "\n",
    "print(relatorio_quotes_toscrep(url=url))"
   ]
  },
  {
   "cell_type": "markdown",
   "id": "5d433459",
   "metadata": {},
   "source": [
    "#### EXERCÍCIO BÔNUS: Salvar em CSV \n",
    "\n",
    "Questão: Salve todas as quotes em um arquivo CSV. "
   ]
  },
  {
   "cell_type": "code",
   "execution_count": 17,
   "id": "bfe42a07",
   "metadata": {},
   "outputs": [
    {
     "name": "stdout",
     "output_type": "stream",
     "text": [
      "Iniciando a raspagem de dados...\n",
      "Raspando a página: http://quotes.toscrape.com/\n",
      "Raspando a página: http://quotes.toscrape.com/page/2/\n",
      "Raspando a página: http://quotes.toscrape.com/page/3/\n",
      "Raspando a página: http://quotes.toscrape.com/page/4/\n",
      "Raspando a página: http://quotes.toscrape.com/page/5/\n",
      "Raspando a página: http://quotes.toscrape.com/page/6/\n",
      "Raspando a página: http://quotes.toscrape.com/page/7/\n",
      "Raspando a página: http://quotes.toscrape.com/page/8/\n",
      "Raspando a página: http://quotes.toscrape.com/page/9/\n",
      "Raspando a página: http://quotes.toscrape.com/page/10/\n",
      "------------------------------\n",
      "Raspagem concluída!\n",
      "{'text': '“The world as we have created it is a process of our thinking. It cannot be changed without changing our thinking.”', 'autor': 'Albert Einstein', 'tags': ['change', 'deep-thoughts', 'thinking', 'world'], 'pagina': 'http://quotes.toscrape.com/'}\n",
      "{'text': '“It is our choices, Harry, that show what we truly are, far more than our abilities.”', 'autor': 'J.K. Rowling', 'tags': ['abilities', 'choices'], 'pagina': 'http://quotes.toscrape.com/'}\n",
      "{'text': '“There are only two ways to live your life. One is as though nothing is a miracle. The other is as though everything is a miracle.”', 'autor': 'Albert Einstein', 'tags': ['inspirational', 'life', 'live', 'miracle', 'miracles'], 'pagina': 'http://quotes.toscrape.com/'}\n",
      "{'text': '“The person, be it gentleman or lady, who has not pleasure in a good novel, must be intolerably stupid.”', 'autor': 'Jane Austen', 'tags': ['aliteracy', 'books', 'classic', 'humor'], 'pagina': 'http://quotes.toscrape.com/'}\n",
      "{'text': \"“Imperfection is beauty, madness is genius and it's better to be absolutely ridiculous than absolutely boring.”\", 'autor': 'Marilyn Monroe', 'tags': ['be-yourself', 'inspirational'], 'pagina': 'http://quotes.toscrape.com/'}\n",
      "{'text': '“Try not to become a man of success. Rather become a man of value.”', 'autor': 'Albert Einstein', 'tags': ['adulthood', 'success', 'value'], 'pagina': 'http://quotes.toscrape.com/'}\n",
      "{'text': '“It is better to be hated for what you are than to be loved for what you are not.”', 'autor': 'André Gide', 'tags': ['life', 'love'], 'pagina': 'http://quotes.toscrape.com/'}\n",
      "{'text': \"“I have not failed. I've just found 10,000 ways that won't work.”\", 'autor': 'Thomas A. Edison', 'tags': ['edison', 'failure', 'inspirational', 'paraphrased'], 'pagina': 'http://quotes.toscrape.com/'}\n",
      "{'text': \"“A woman is like a tea bag; you never know how strong it is until it's in hot water.”\", 'autor': 'Eleanor Roosevelt', 'tags': ['misattributed-eleanor-roosevelt'], 'pagina': 'http://quotes.toscrape.com/'}\n",
      "{'text': '“A day without sunshine is like, you know, night.”', 'autor': 'Steve Martin', 'tags': ['humor', 'obvious', 'simile'], 'pagina': 'http://quotes.toscrape.com/'}\n",
      "{'text': \"“This life is what you make it. No matter what, you're going to mess up sometimes, it's a universal truth. But the good part is you get to decide how you're going to mess it up. Girls will be your friends - they'll act like it anyway. But just remember, some come, some go. The ones that stay with you through everything - they're your true best friends. Don't let go of them. Also remember, sisters make the best friends in the world. As for lovers, well, they'll come and go too. And baby, I hate to say it, most of them - actually pretty much all of them are going to break your heart, but you can't give up because if you give up, you'll never find your soulmate. You'll never find that half who makes you whole and that goes for everything. Just because you fail once, doesn't mean you're gonna fail at everything. Keep trying, hold on, and always, always, always believe in yourself, because if you don't, then who will, sweetie? So keep your head high, keep your chin up, and most importantly, keep smiling, because life's a beautiful thing and there's so much to smile about.”\", 'autor': 'Marilyn Monroe', 'tags': ['friends', 'heartbreak', 'inspirational', 'life', 'love', 'sisters'], 'pagina': 'http://quotes.toscrape.com/page/2/'}\n",
      "{'text': '“It takes a great deal of bravery to stand up to our enemies, but just as much to stand up to our friends.”', 'autor': 'J.K. Rowling', 'tags': ['courage', 'friends'], 'pagina': 'http://quotes.toscrape.com/page/2/'}\n",
      "{'text': \"“If you can't explain it to a six year old, you don't understand it yourself.”\", 'autor': 'Albert Einstein', 'tags': ['simplicity', 'understand'], 'pagina': 'http://quotes.toscrape.com/page/2/'}\n",
      "{'text': \"“You may not be her first, her last, or her only. She loved before she may love again. But if she loves you now, what else matters? She's not perfect—you aren't either, and the two of you may never be perfect together but if she can make you laugh, cause you to think twice, and admit to being human and making mistakes, hold onto her and give her the most you can. She may not be thinking about you every second of the day, but she will give you a part of her that she knows you can break—her heart. So don't hurt her, don't change her, don't analyze and don't expect more than she can give. Smile when she makes you happy, let her know when she makes you mad, and miss her when she's not there.”\", 'autor': 'Bob Marley', 'tags': ['love'], 'pagina': 'http://quotes.toscrape.com/page/2/'}\n",
      "{'text': '“I like nonsense, it wakes up the brain cells. Fantasy is a necessary ingredient in living.”', 'autor': 'Dr. Seuss', 'tags': ['fantasy'], 'pagina': 'http://quotes.toscrape.com/page/2/'}\n",
      "{'text': '“I may not have gone where I intended to go, but I think I have ended up where I needed to be.”', 'autor': 'Douglas Adams', 'tags': ['life', 'navigation'], 'pagina': 'http://quotes.toscrape.com/page/2/'}\n",
      "{'text': \"“The opposite of love is not hate, it's indifference. The opposite of art is not ugliness, it's indifference. The opposite of faith is not heresy, it's indifference. And the opposite of life is not death, it's indifference.”\", 'autor': 'Elie Wiesel', 'tags': ['activism', 'apathy', 'hate', 'indifference', 'inspirational', 'love', 'opposite', 'philosophy'], 'pagina': 'http://quotes.toscrape.com/page/2/'}\n",
      "{'text': '“It is not a lack of love, but a lack of friendship that makes unhappy marriages.”', 'autor': 'Friedrich Nietzsche', 'tags': ['friendship', 'lack-of-friendship', 'lack-of-love', 'love', 'marriage', 'unhappy-marriage'], 'pagina': 'http://quotes.toscrape.com/page/2/'}\n",
      "{'text': '“Good friends, good books, and a sleepy conscience: this is the ideal life.”', 'autor': 'Mark Twain', 'tags': ['books', 'contentment', 'friends', 'friendship', 'life'], 'pagina': 'http://quotes.toscrape.com/page/2/'}\n",
      "{'text': '“Life is what happens to us while we are making other plans.”', 'autor': 'Allen Saunders', 'tags': ['fate', 'life', 'misattributed-john-lennon', 'planning', 'plans'], 'pagina': 'http://quotes.toscrape.com/page/2/'}\n",
      "{'text': '“I love you without knowing how, or when, or from where. I love you simply, without problems or pride: I love you in this way because I do not know any other way of loving but this, in which there is no I or you, so intimate that your hand upon my chest is my hand, so intimate that when I fall asleep your eyes close.”', 'autor': 'Pablo Neruda', 'tags': ['love', 'poetry'], 'pagina': 'http://quotes.toscrape.com/page/3/'}\n",
      "{'text': '“For every minute you are angry you lose sixty seconds of happiness.”', 'autor': 'Ralph Waldo Emerson', 'tags': ['happiness'], 'pagina': 'http://quotes.toscrape.com/page/3/'}\n",
      "{'text': '“If you judge people, you have no time to love them.”', 'autor': 'Mother Teresa', 'tags': ['attributed-no-source'], 'pagina': 'http://quotes.toscrape.com/page/3/'}\n",
      "{'text': '“Anyone who thinks sitting in church can make you a Christian must also think that sitting in a garage can make you a car.”', 'autor': 'Garrison Keillor', 'tags': ['humor', 'religion'], 'pagina': 'http://quotes.toscrape.com/page/3/'}\n",
      "{'text': '“Beauty is in the eye of the beholder and it may be necessary from time to time to give a stupid or misinformed beholder a black eye.”', 'autor': 'Jim Henson', 'tags': ['humor'], 'pagina': 'http://quotes.toscrape.com/page/3/'}\n",
      "{'text': '“Today you are You, that is truer than true. There is no one alive who is Youer than You.”', 'autor': 'Dr. Seuss', 'tags': ['comedy', 'life', 'yourself'], 'pagina': 'http://quotes.toscrape.com/page/3/'}\n",
      "{'text': '“If you want your children to be intelligent, read them fairy tales. If you want them to be more intelligent, read them more fairy tales.”', 'autor': 'Albert Einstein', 'tags': ['children', 'fairy-tales'], 'pagina': 'http://quotes.toscrape.com/page/3/'}\n",
      "{'text': '“It is impossible to live without failing at something, unless you live so cautiously that you might as well not have lived at all - in which case, you fail by default.”', 'autor': 'J.K. Rowling', 'tags': [], 'pagina': 'http://quotes.toscrape.com/page/3/'}\n",
      "{'text': '“Logic will get you from A to Z; imagination will get you everywhere.”', 'autor': 'Albert Einstein', 'tags': ['imagination'], 'pagina': 'http://quotes.toscrape.com/page/3/'}\n",
      "{'text': '“One good thing about music, when it hits you, you feel no pain.”', 'autor': 'Bob Marley', 'tags': ['music'], 'pagina': 'http://quotes.toscrape.com/page/3/'}\n",
      "{'text': \"“The more that you read, the more things you will know. The more that you learn, the more places you'll go.”\", 'autor': 'Dr. Seuss', 'tags': ['learning', 'reading', 'seuss'], 'pagina': 'http://quotes.toscrape.com/page/4/'}\n",
      "{'text': '“Of course it is happening inside your head, Harry, but why on earth should that mean that it is not real?”', 'autor': 'J.K. Rowling', 'tags': ['dumbledore'], 'pagina': 'http://quotes.toscrape.com/page/4/'}\n",
      "{'text': '“The truth is, everyone is going to hurt you. You just got to find the ones worth suffering for.”', 'autor': 'Bob Marley', 'tags': ['friendship'], 'pagina': 'http://quotes.toscrape.com/page/4/'}\n",
      "{'text': '“Not all of us can do great things. But we can do small things with great love.”', 'autor': 'Mother Teresa', 'tags': ['misattributed-to-mother-teresa', 'paraphrased'], 'pagina': 'http://quotes.toscrape.com/page/4/'}\n",
      "{'text': '“To the well-organized mind, death is but the next great adventure.”', 'autor': 'J.K. Rowling', 'tags': ['death', 'inspirational'], 'pagina': 'http://quotes.toscrape.com/page/4/'}\n",
      "{'text': \"“All you need is love. But a little chocolate now and then doesn't hurt.”\", 'autor': 'Charles M. Schulz', 'tags': ['chocolate', 'food', 'humor'], 'pagina': 'http://quotes.toscrape.com/page/4/'}\n",
      "{'text': \"“We read to know we're not alone.”\", 'autor': 'William Nicholson', 'tags': ['misattributed-to-c-s-lewis', 'reading'], 'pagina': 'http://quotes.toscrape.com/page/4/'}\n",
      "{'text': '“Any fool can know. The point is to understand.”', 'autor': 'Albert Einstein', 'tags': ['knowledge', 'learning', 'understanding', 'wisdom'], 'pagina': 'http://quotes.toscrape.com/page/4/'}\n",
      "{'text': '“I have always imagined that Paradise will be a kind of library.”', 'autor': 'Jorge Luis Borges', 'tags': ['books', 'library'], 'pagina': 'http://quotes.toscrape.com/page/4/'}\n",
      "{'text': '“It is never too late to be what you might have been.”', 'autor': 'George Eliot', 'tags': ['inspirational'], 'pagina': 'http://quotes.toscrape.com/page/4/'}\n",
      "{'text': '“A reader lives a thousand lives before he dies, said Jojen. The man who never reads lives only one.”', 'autor': 'George R.R. Martin', 'tags': ['read', 'readers', 'reading', 'reading-books'], 'pagina': 'http://quotes.toscrape.com/page/5/'}\n",
      "{'text': '“You can never get a cup of tea large enough or a book long enough to suit me.”', 'autor': 'C.S. Lewis', 'tags': ['books', 'inspirational', 'reading', 'tea'], 'pagina': 'http://quotes.toscrape.com/page/5/'}\n",
      "{'text': '“You believe lies so you eventually learn to trust no one but yourself.”', 'autor': 'Marilyn Monroe', 'tags': [], 'pagina': 'http://quotes.toscrape.com/page/5/'}\n",
      "{'text': '“If you can make a woman laugh, you can make her do anything.”', 'autor': 'Marilyn Monroe', 'tags': ['girls', 'love'], 'pagina': 'http://quotes.toscrape.com/page/5/'}\n",
      "{'text': '“Life is like riding a bicycle. To keep your balance, you must keep moving.”', 'autor': 'Albert Einstein', 'tags': ['life', 'simile'], 'pagina': 'http://quotes.toscrape.com/page/5/'}\n",
      "{'text': '“The real lover is the man who can thrill you by kissing your forehead or smiling into your eyes or just staring into space.”', 'autor': 'Marilyn Monroe', 'tags': ['love'], 'pagina': 'http://quotes.toscrape.com/page/5/'}\n",
      "{'text': \"“A wise girl kisses but doesn't love, listens but doesn't believe, and leaves before she is left.”\", 'autor': 'Marilyn Monroe', 'tags': ['attributed-no-source'], 'pagina': 'http://quotes.toscrape.com/page/5/'}\n",
      "{'text': '“Only in the darkness can you see the stars.”', 'autor': 'Martin Luther King Jr.', 'tags': ['hope', 'inspirational'], 'pagina': 'http://quotes.toscrape.com/page/5/'}\n",
      "{'text': '“It matters not what someone is born, but what they grow to be.”', 'autor': 'J.K. Rowling', 'tags': ['dumbledore'], 'pagina': 'http://quotes.toscrape.com/page/5/'}\n",
      "{'text': '“Love does not begin and end the way we seem to think it does. Love is a battle, love is a war; love is a growing up.”', 'autor': 'James Baldwin', 'tags': ['love'], 'pagina': 'http://quotes.toscrape.com/page/5/'}\n",
      "{'text': '“There is nothing I would not do for those who are really my friends. I have no notion of loving people by halves, it is not my nature.”', 'autor': 'Jane Austen', 'tags': ['friendship', 'love'], 'pagina': 'http://quotes.toscrape.com/page/6/'}\n",
      "{'text': '“Do one thing every day that scares you.”', 'autor': 'Eleanor Roosevelt', 'tags': ['attributed', 'fear', 'inspiration'], 'pagina': 'http://quotes.toscrape.com/page/6/'}\n",
      "{'text': '“I am good, but not an angel. I do sin, but I am not the devil. I am just a small girl in a big world trying to find someone to love.”', 'autor': 'Marilyn Monroe', 'tags': ['attributed-no-source'], 'pagina': 'http://quotes.toscrape.com/page/6/'}\n",
      "{'text': '“If I were not a physicist, I would probably be a musician. I often think in music. I live my daydreams in music. I see my life in terms of music.”', 'autor': 'Albert Einstein', 'tags': ['music'], 'pagina': 'http://quotes.toscrape.com/page/6/'}\n",
      "{'text': '“If you only read the books that everyone else is reading, you can only think what everyone else is thinking.”', 'autor': 'Haruki Murakami', 'tags': ['books', 'thought'], 'pagina': 'http://quotes.toscrape.com/page/6/'}\n",
      "{'text': '“The difference between genius and stupidity is: genius has its limits.”', 'autor': 'Alexandre Dumas fils', 'tags': ['misattributed-to-einstein'], 'pagina': 'http://quotes.toscrape.com/page/6/'}\n",
      "{'text': \"“He's like a drug for you, Bella.”\", 'autor': 'Stephenie Meyer', 'tags': ['drug', 'romance', 'simile'], 'pagina': 'http://quotes.toscrape.com/page/6/'}\n",
      "{'text': '“There is no friend as loyal as a book.”', 'autor': 'Ernest Hemingway', 'tags': ['books', 'friends', 'novelist-quotes'], 'pagina': 'http://quotes.toscrape.com/page/6/'}\n",
      "{'text': '“When one door of happiness closes, another opens; but often we look so long at the closed door that we do not see the one which has been opened for us.”', 'autor': 'Helen Keller', 'tags': ['inspirational'], 'pagina': 'http://quotes.toscrape.com/page/6/'}\n",
      "{'text': \"“Life isn't about finding yourself. Life is about creating yourself.”\", 'autor': 'George Bernard Shaw', 'tags': ['inspirational', 'life', 'yourself'], 'pagina': 'http://quotes.toscrape.com/page/6/'}\n",
      "{'text': \"“That's the problem with drinking, I thought, as I poured myself a drink. If something bad happens you drink in an attempt to forget; if something good happens you drink in order to celebrate; and if nothing happens you drink to make something happen.”\", 'autor': 'Charles Bukowski', 'tags': ['alcohol'], 'pagina': 'http://quotes.toscrape.com/page/7/'}\n",
      "{'text': '“You don’t forget the face of the person who was your last hope.”', 'autor': 'Suzanne Collins', 'tags': ['the-hunger-games'], 'pagina': 'http://quotes.toscrape.com/page/7/'}\n",
      "{'text': \"“Remember, we're madly in love, so it's all right to kiss me anytime you feel like it.”\", 'autor': 'Suzanne Collins', 'tags': ['humor'], 'pagina': 'http://quotes.toscrape.com/page/7/'}\n",
      "{'text': '“To love at all is to be vulnerable. Love anything and your heart will be wrung and possibly broken. If you want to make sure of keeping it intact you must give it to no one, not even an animal. Wrap it carefully round with hobbies and little luxuries; avoid all entanglements. Lock it up safe in the casket or coffin of your selfishness. But in that casket, safe, dark, motionless, airless, it will change. It will not be broken; it will become unbreakable, impenetrable, irredeemable. To love is to be vulnerable.”', 'autor': 'C.S. Lewis', 'tags': ['love'], 'pagina': 'http://quotes.toscrape.com/page/7/'}\n",
      "{'text': '“Not all those who wander are lost.”', 'autor': 'J.R.R. Tolkien', 'tags': ['bilbo', 'journey', 'lost', 'quest', 'travel', 'wander'], 'pagina': 'http://quotes.toscrape.com/page/7/'}\n",
      "{'text': '“Do not pity the dead, Harry. Pity the living, and, above all those who live without love.”', 'autor': 'J.K. Rowling', 'tags': ['live-death-love'], 'pagina': 'http://quotes.toscrape.com/page/7/'}\n",
      "{'text': '“There is nothing to writing. All you do is sit down at a typewriter and bleed.”', 'autor': 'Ernest Hemingway', 'tags': ['good', 'writing'], 'pagina': 'http://quotes.toscrape.com/page/7/'}\n",
      "{'text': '“Finish each day and be done with it. You have done what you could. Some blunders and absurdities no doubt crept in; forget them as soon as you can. Tomorrow is a new day. You shall begin it serenely and with too high a spirit to be encumbered with your old nonsense.”', 'autor': 'Ralph Waldo Emerson', 'tags': ['life', 'regrets'], 'pagina': 'http://quotes.toscrape.com/page/7/'}\n",
      "{'text': '“I have never let my schooling interfere with my education.”', 'autor': 'Mark Twain', 'tags': ['education'], 'pagina': 'http://quotes.toscrape.com/page/7/'}\n",
      "{'text': \"“I have heard there are troubles of more than one kind. Some come from ahead and some come from behind. But I've bought a big bat. I'm all ready you see. Now my troubles are going to have troubles with me!”\", 'autor': 'Dr. Seuss', 'tags': ['troubles'], 'pagina': 'http://quotes.toscrape.com/page/7/'}\n",
      "{'text': '“If I had a flower for every time I thought of you...I could walk through my garden forever.”', 'autor': 'Alfred Tennyson', 'tags': ['friendship', 'love'], 'pagina': 'http://quotes.toscrape.com/page/8/'}\n",
      "{'text': '“Some people never go crazy. What truly horrible lives they must lead.”', 'autor': 'Charles Bukowski', 'tags': ['humor'], 'pagina': 'http://quotes.toscrape.com/page/8/'}\n",
      "{'text': '“The trouble with having an open mind, of course, is that people will insist on coming along and trying to put things in it.”', 'autor': 'Terry Pratchett', 'tags': ['humor', 'open-mind', 'thinking'], 'pagina': 'http://quotes.toscrape.com/page/8/'}\n",
      "{'text': '“Think left and think right and think low and think high. Oh, the thinks you can think up if only you try!”', 'autor': 'Dr. Seuss', 'tags': ['humor', 'philosophy'], 'pagina': 'http://quotes.toscrape.com/page/8/'}\n",
      "{'text': \"“What really knocks me out is a book that, when you're all done reading it, you wish the author that wrote it was a terrific friend of yours and you could call him up on the phone whenever you felt like it. That doesn't happen much, though.”\", 'autor': 'J.D. Salinger', 'tags': ['authors', 'books', 'literature', 'reading', 'writing'], 'pagina': 'http://quotes.toscrape.com/page/8/'}\n",
      "{'text': '“The reason I talk to myself is because I’m the only one whose answers I accept.”', 'autor': 'George Carlin', 'tags': ['humor', 'insanity', 'lies', 'lying', 'self-indulgence', 'truth'], 'pagina': 'http://quotes.toscrape.com/page/8/'}\n",
      "{'text': \"“You may say I'm a dreamer, but I'm not the only one. I hope someday you'll join us. And the world will live as one.”\", 'autor': 'John Lennon', 'tags': ['beatles', 'connection', 'dreamers', 'dreaming', 'dreams', 'hope', 'inspirational', 'peace'], 'pagina': 'http://quotes.toscrape.com/page/8/'}\n",
      "{'text': '“I am free of all prejudice. I hate everyone equally. ”', 'autor': 'W.C. Fields', 'tags': ['humor', 'sinister'], 'pagina': 'http://quotes.toscrape.com/page/8/'}\n",
      "{'text': \"“The question isn't who is going to let me; it's who is going to stop me.”\", 'autor': 'Ayn Rand', 'tags': [], 'pagina': 'http://quotes.toscrape.com/page/8/'}\n",
      "{'text': \"“′Classic′ - a book which people praise and don't read.”\", 'autor': 'Mark Twain', 'tags': ['books', 'classic', 'reading'], 'pagina': 'http://quotes.toscrape.com/page/8/'}\n",
      "{'text': '“Anyone who has never made a mistake has never tried anything new.”', 'autor': 'Albert Einstein', 'tags': ['mistakes'], 'pagina': 'http://quotes.toscrape.com/page/9/'}\n",
      "{'text': \"“A lady's imagination is very rapid; it jumps from admiration to love, from love to matrimony in a moment.”\", 'autor': 'Jane Austen', 'tags': ['humor', 'love', 'romantic', 'women'], 'pagina': 'http://quotes.toscrape.com/page/9/'}\n",
      "{'text': '“Remember, if the time should come when you have to make a choice between what is right and what is easy, remember what happened to a boy who was good, and kind, and brave, because he strayed across the path of Lord Voldemort. Remember Cedric Diggory.”', 'autor': 'J.K. Rowling', 'tags': ['integrity'], 'pagina': 'http://quotes.toscrape.com/page/9/'}\n",
      "{'text': '“I declare after all there is no enjoyment like reading! How much sooner one tires of any thing than of a book! -- When I have a house of my own, I shall be miserable if I have not an excellent library.”', 'autor': 'Jane Austen', 'tags': ['books', 'library', 'reading'], 'pagina': 'http://quotes.toscrape.com/page/9/'}\n",
      "{'text': '“There are few people whom I really love, and still fewer of whom I think well. The more I see of the world, the more am I dissatisfied with it; and every day confirms my belief of the inconsistency of all human characters, and of the little dependence that can be placed on the appearance of merit or sense.”', 'autor': 'Jane Austen', 'tags': ['elizabeth-bennet', 'jane-austen'], 'pagina': 'http://quotes.toscrape.com/page/9/'}\n",
      "{'text': '“Some day you will be old enough to start reading fairy tales again.”', 'autor': 'C.S. Lewis', 'tags': ['age', 'fairytales', 'growing-up'], 'pagina': 'http://quotes.toscrape.com/page/9/'}\n",
      "{'text': '“We are not necessarily doubting that God will do the best for us; we are wondering how painful the best will turn out to be.”', 'autor': 'C.S. Lewis', 'tags': ['god'], 'pagina': 'http://quotes.toscrape.com/page/9/'}\n",
      "{'text': '“The fear of death follows from the fear of life. A man who lives fully is prepared to die at any time.”', 'autor': 'Mark Twain', 'tags': ['death', 'life'], 'pagina': 'http://quotes.toscrape.com/page/9/'}\n",
      "{'text': '“A lie can travel half way around the world while the truth is putting on its shoes.”', 'autor': 'Mark Twain', 'tags': ['misattributed-mark-twain', 'truth'], 'pagina': 'http://quotes.toscrape.com/page/9/'}\n",
      "{'text': '“I believe in Christianity as I believe that the sun has risen: not only because I see it, but because by it I see everything else.”', 'autor': 'C.S. Lewis', 'tags': ['christianity', 'faith', 'religion', 'sun'], 'pagina': 'http://quotes.toscrape.com/page/9/'}\n",
      "{'text': '“The truth.\" Dumbledore sighed. \"It is a beautiful and terrible thing, and should therefore be treated with great caution.”', 'autor': 'J.K. Rowling', 'tags': ['truth'], 'pagina': 'http://quotes.toscrape.com/page/10/'}\n",
      "{'text': \"“I'm the one that's got to die when it's time for me to die, so let me live my life the way I want to.”\", 'autor': 'Jimi Hendrix', 'tags': ['death', 'life'], 'pagina': 'http://quotes.toscrape.com/page/10/'}\n",
      "{'text': '“To die will be an awfully big adventure.”', 'autor': 'J.M. Barrie', 'tags': ['adventure', 'love'], 'pagina': 'http://quotes.toscrape.com/page/10/'}\n",
      "{'text': '“It takes courage to grow up and become who you really are.”', 'autor': 'E.E. Cummings', 'tags': ['courage'], 'pagina': 'http://quotes.toscrape.com/page/10/'}\n",
      "{'text': '“But better to get hurt by the truth than comforted with a lie.”', 'autor': 'Khaled Hosseini', 'tags': ['life'], 'pagina': 'http://quotes.toscrape.com/page/10/'}\n",
      "{'text': '“You never really understand a person until you consider things from his point of view... Until you climb inside of his skin and walk around in it.”', 'autor': 'Harper Lee', 'tags': ['better-life-empathy'], 'pagina': 'http://quotes.toscrape.com/page/10/'}\n",
      "{'text': '“You have to write the book that wants to be written. And if the book will be too difficult for grown-ups, then you write it for children.”', 'autor': \"Madeleine L'Engle\", 'tags': ['books', 'children', 'difficult', 'grown-ups', 'write', 'writers', 'writing'], 'pagina': 'http://quotes.toscrape.com/page/10/'}\n",
      "{'text': '“Never tell the truth to people who are not worthy of it.”', 'autor': 'Mark Twain', 'tags': ['truth'], 'pagina': 'http://quotes.toscrape.com/page/10/'}\n",
      "{'text': \"“A person's a person, no matter how small.”\", 'autor': 'Dr. Seuss', 'tags': ['inspirational'], 'pagina': 'http://quotes.toscrape.com/page/10/'}\n",
      "{'text': '“... a mind needs books as a sword needs a whetstone, if it is to keep its edge.”', 'autor': 'George R.R. Martin', 'tags': ['books', 'mind'], 'pagina': 'http://quotes.toscrape.com/page/10/'}\n"
     ]
    }
   ],
   "source": [
    "page_url = '/'\n",
    "all_quotes = []\n",
    "list_quote = []\n",
    "\n",
    "print('Iniciando a raspagem de dados...')\n",
    "\n",
    "while page_url:\n",
    "    full_url = url + page_url\n",
    "    print(f'Raspando a página: {full_url}')\n",
    "\n",
    "    response = requests.get(full_url)\n",
    "    soup = BeautifulSoup(response.text, 'html.parser')\n",
    "    \n",
    "    regex = r'>(.*?)<'\n",
    "\n",
    "    for i in soup.find_all('div', class_='quote'):\n",
    "        \n",
    "        # Separa Tags\n",
    "        list_tags = []\n",
    "        for t in i.find_all('a', class_='tag'):        \n",
    "            list_tags.append(re.findall(regex, str(t))[0])\n",
    "\n",
    "        list_quote.append({\n",
    "            'text' : i.find('span', class_='text').text,\n",
    "            'autor' : i.find('small', class_='author').text,        \n",
    "            'tags': list_tags,\n",
    "            'pagina': full_url\n",
    "        })\n",
    "\n",
    "\n",
    "    # Tentar encontrar o link para a próxima página\n",
    "    next_li = soup.select_one('li.next a')\n",
    "    \n",
    "    if next_li:\n",
    "        page_url = next_li['href']\n",
    "    else:\n",
    "        page_url = None # Sair do loop se não houver mais páginas\n",
    "        \n",
    "print('-' * 30)\n",
    "print(f'Raspagem concluída!')\n",
    "\n",
    "for item in list_quote:\n",
    "    print(f'{item}')"
   ]
  },
  {
   "cell_type": "code",
   "execution_count": 18,
   "id": "e67f9dc0",
   "metadata": {},
   "outputs": [],
   "source": [
    "import csv\n",
    "\n",
    "def criar_file_csv(dados, nome_file):\n",
    "  \n",
    "   # Obter os nomes dos campos (chaves dos dicionários)\n",
    "  chaves = dados[0].keys()\n",
    "\n",
    "  with open(nome_file, 'w', newline='') as file_csv:\n",
    "    escritor = csv.DictWriter(file_csv, fieldnames=chaves)\n",
    "\n",
    "    # Escrever o cabeçalho\n",
    "    escritor.writeheader()\n",
    "\n",
    "    # Escrever os dados\n",
    "    escritor.writerows(dados)\n",
    "\n",
    "nome_do_file = 'dados.csv'\n",
    "criar_file_csv(list_quote, nome_do_file)"
   ]
  },
  {
   "cell_type": "code",
   "execution_count": 19,
   "id": "bef5a2d7",
   "metadata": {},
   "outputs": [
    {
     "name": "stdout",
     "output_type": "stream",
     "text": [
      "Raspando a página: https://quotes.toscrape.com/author/George-R-R-Martin\n",
      "Raspando a página: https://quotes.toscrape.com/author/Madeleine-LEngle\n",
      "Raspando a página: https://quotes.toscrape.com/author/Mark-Twain\n",
      "Raspando a página: https://quotes.toscrape.com/author/Jimi-Hendrix\n",
      "Raspando a página: https://quotes.toscrape.com/author/Khaled-Hosseini\n",
      "Raspando a página: https://quotes.toscrape.com/author/E-E-Cummings\n",
      "Raspando a página: https://quotes.toscrape.com/author/Dr-Seuss\n",
      "Raspando a página: https://quotes.toscrape.com/author/Harper-Lee\n",
      "Raspando a página: https://quotes.toscrape.com/author/J-M-Barrie\n",
      "Raspando a página: https://quotes.toscrape.com/author/J-K-Rowling\n"
     ]
    }
   ],
   "source": [
    "# URL base do site\n",
    "url = 'https://quotes.toscrape.com'\n",
    "\n",
    "# Encontra a primeira citação para extrair o link do autor\n",
    "about_href = soup.find_all('a', string='(about)')\n",
    "\n",
    "author_link = []\n",
    "author_data = []\n",
    "\n",
    "if about_href:\n",
    "    # Encontra o link 'about' do autor dentro da citação\n",
    "    regex = r'<a href=\"(.*?)\"'\n",
    "\n",
    "    for ah in about_href:        \n",
    "        author_link.append(re.findall(regex, str(ah))[0])\n",
    "    \n",
    "    \n",
    "    for author_page in set(author_link):                \n",
    "        \n",
    "        full_url = url + author_page\n",
    "        print(f'Raspando a página: {full_url}')\n",
    "        \n",
    "        response = requests.get(full_url)\n",
    "        soup = BeautifulSoup(response.text, 'html.parser')\n",
    "        \n",
    "        author_data.append(\n",
    "            {\n",
    "                'author': soup.find('h3', class_=\"author-title\").text,\n",
    "                'data nascimento': soup.find('span', class_=\"author-born-date\").text,\n",
    "                'local nascimento': soup.find('span', class_=\"author-born-location\").text,\n",
    "                'descricao': str(soup.find('div', class_=\"author-description\").text).strip()\n",
    "            }\n",
    "        )\n",
    "else:\n",
    "    print('Nenhuma citação encontrada na página.')\n",
    "\n",
    "nome_do_file = 'author.csv'\n",
    "criar_file_csv(author_data, nome_do_file)"
   ]
  },
  {
   "cell_type": "code",
   "execution_count": 20,
   "id": "af766b17",
   "metadata": {},
   "outputs": [
    {
     "data": {
      "text/plain": [
       "array(['Albert Einstein', 'J.K. Rowling', 'Jane Austen', 'Marilyn Monroe',\n",
       "       'André Gide', 'Thomas A. Edison', 'Eleanor Roosevelt',\n",
       "       'Steve Martin', 'Bob Marley', 'Dr. Seuss', 'Douglas Adams',\n",
       "       'Elie Wiesel', 'Friedrich Nietzsche', 'Mark Twain',\n",
       "       'Allen Saunders', 'Pablo Neruda', 'Ralph Waldo Emerson',\n",
       "       'Mother Teresa', 'Garrison Keillor', 'Jim Henson',\n",
       "       'Charles M. Schulz', 'William Nicholson', 'Jorge Luis Borges',\n",
       "       'George Eliot', 'George R.R. Martin', 'C.S. Lewis',\n",
       "       'Martin Luther King Jr.', 'James Baldwin', 'Haruki Murakami',\n",
       "       'Alexandre Dumas fils', 'Stephenie Meyer', 'Ernest Hemingway',\n",
       "       'Helen Keller', 'George Bernard Shaw', 'Charles Bukowski',\n",
       "       'Suzanne Collins', 'J.R.R. Tolkien', 'Alfred Tennyson',\n",
       "       'Terry Pratchett', 'J.D. Salinger', 'George Carlin', 'John Lennon',\n",
       "       'W.C. Fields', 'Ayn Rand', 'Jimi Hendrix', 'J.M. Barrie',\n",
       "       'E.E. Cummings', 'Khaled Hosseini', 'Harper Lee',\n",
       "       \"Madeleine L'Engle\"], dtype=object)"
      ]
     },
     "execution_count": 20,
     "metadata": {},
     "output_type": "execute_result"
    }
   ],
   "source": [
    "import pandas as pd\n",
    "\n",
    "df = pd.read_csv('dados.csv')\n",
    "df['autor'].unique()"
   ]
  },
  {
   "cell_type": "code",
   "execution_count": 3,
   "id": "7976ec22",
   "metadata": {},
   "outputs": [],
   "source": [
    "import pandas as pd\n",
    "\n",
    "df = pd.read_csv('author.csv')    \n",
    "\n",
    "df_sem_duplicatas = df.drop_duplicates(subset=['author'])\n",
    "    \n",
    "df_sem_duplicatas.to_csv('author_sem_duplicatas.csv', index=False)"
   ]
  },
  {
   "cell_type": "markdown",
   "id": "7382a234",
   "metadata": {},
   "source": [
    "\n",
    "Conceitos Aprendidos\n",
    "• urlopen() - Abrir conexões web\n",
    "\n",
    "• BeautifulSoup() - Parser HTML\n",
    "\n",
    "• find() - Buscar primeiro elemento\n",
    "\n",
    "• find_all() - Buscar todos os elementos\n",
    "\n",
    "• select() - CSS selectors\n",
    "\n",
    "• Navegação por atributos e classes\n",
    "\n",
    "• Extração de texto e atributos\n",
    "\n",
    "• Manipulação de dados extraídos\n",
    "\n",
    "• Análise estatística dos dados\n",
    "\n",
    "• Exportação para CSV\n"
   ]
  }
 ],
 "metadata": {
  "kernelspec": {
   "display_name": "DataHarvesting",
   "language": "python",
   "name": "python3"
  },
  "language_info": {
   "codemirror_mode": {
    "name": "ipython",
    "version": 3
   },
   "file_extension": ".py",
   "mimetype": "text/x-python",
   "name": "python",
   "nbconvert_exporter": "python",
   "pygments_lexer": "ipython3",
   "version": "3.13.7"
  }
 },
 "nbformat": 4,
 "nbformat_minor": 5
}
